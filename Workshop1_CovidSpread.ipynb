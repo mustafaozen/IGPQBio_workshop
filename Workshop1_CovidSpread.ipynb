{
 "cells": [
  {
   "cell_type": "markdown",
   "id": "56c985ca",
   "metadata": {},
   "source": [
    "# Simulating Covid-19 Spread in PySB\n",
    "\n",
    "This example demonstrates how one can implement and simulate a system model using PySB. In this example, a simple model of Covid-19 spread is simulated. This model can be simulated by solving a system of first order ODEs given by: dy/dt = f(y, t). However, using PySB, the system can be given as a set of reaction rules and the underlying ODE system is solved at runtime. This representation is typically clearer and easier to update and maintain."
   ]
  },
  {
   "cell_type": "markdown",
   "id": "cb2f17ba",
   "metadata": {},
   "source": [
    "## Background\n",
    "\n",
    "Suppose 2000 healthy people live in a town. Then, one day, a person infected to Covid-19 comes to the town and the virus starts spreading. The following diagram demonstrates the model details:  \n",
    "\n",
    "![asdf](modelDiagram.png)\n",
    "\n",
    "Populations (the \"species\" of the model, represented as `Monomers` in PySB):\n",
    "\n",
    "    Healthy (H): the number of healthy (never got covid or recovered from covid) people\n",
    "    Patient (P): the number of covid patients\n",
    "    Death (D): the number of people died (either naturally or because of covid)\n",
    "    \n",
    "Parameters:\n",
    "\n",
    "    k_birth (π in the figure above): the population birth rate: Assume it is 1.\n",
    "    k_naturaldeath (δ in the figure above): the chance of a natural death: Assume it is 0.001\n",
    "    k_infect (β in the figure above): the chance the disease is transmitted (an healthy person becomes a covid patient): Assume it is 0.001\n",
    "    k_recover (α in the figure above): the chance of recovering from covid and becoming healthy again: Assume it is 0.1\n",
    "    k_coviddeath (γ in the figure above): the chance of death from covid: Assume it is 0.01\n",
    "\n",
    "Initial values:\n",
    "    \n",
    "    Healthy (H): assume initially there exist 2000 healthy people that never got covid in the neighbourhood and 0 healthy people recovered from covid. \n",
    "    Patient (P): assume initially there exists only 1 Covid patient.\n",
    "    Death (D): assume initially there isn't any natural or covid death.\n",
    "\n",
    "\n",
    "## Instructions\n",
    "\n",
    "Please read and underrstand the model and type your own PySB commands to represent this system. Then, simulate the system for 0 to 150 days considering 10000 time-point samples. You can use the [PySB Tutorial](https://pysb.readthedocs.io/en/stable/tutorial.html#) for explanations and examples of the individual model components you need to use. Also, you can check the previous session's slides for more examples.\n",
    "\n",
    "## How to run this notebook\n",
    "\n",
    "Select the **Kernel** menu at the top of the page, then select **Restart & Run All**. After a few seconds, a plot should appear at the bottom of the page if eveything is correctly implemented.\n",
    "\n",
    "## Upload this notebook on Brightspace\n",
    "\n",
    "At the end of the session, upload your notebook on Brightspace. Please rename the file in the following format: yourFirsAndLastname_Workshop1_CovidSpread. E.g.: MustafaOzen_Workshop1_CovidSpread.ipynb\n",
    "\n",
    "## Credits\n",
    "This notebook was adapted from a previously implemented PySB tutorial by Alex Lubbock."
   ]
  },
  {
   "cell_type": "code",
   "execution_count": null,
   "id": "18ccdc17",
   "metadata": {},
   "outputs": [],
   "source": [
    "# import the pysb module:\n"
   ]
  },
  {
   "cell_type": "code",
   "execution_count": null,
   "id": "46a462ff",
   "metadata": {},
   "outputs": [],
   "source": [
    "# instantiate a model:\n"
   ]
  },
  {
   "cell_type": "markdown",
   "id": "c4826aa9",
   "metadata": {},
   "source": [
    "## Declare Monomers\n",
    "\n",
    "Monomers are the components whose behavior is intended to be modeled in the system."
   ]
  },
  {
   "cell_type": "code",
   "execution_count": null,
   "id": "3f14b732",
   "metadata": {},
   "outputs": [],
   "source": [
    "# declare monomer for Healthy people:\n",
    "# Hint: Healthy people can be covid-free because either they never interacted with covid or\n",
    "# they are recovered from covid. You can implement this by considering a binding site ['i'] \n",
    "# that has two states ['neverGotCovid', 'recFromCovid']\n"
   ]
  },
  {
   "cell_type": "code",
   "execution_count": null,
   "id": "7f26ea39",
   "metadata": {},
   "outputs": [],
   "source": [
    "# declare monomer for Patients: \n",
    "# Hint: Think whether you need a binding site with different states. We only consider the illness due to covid.  \n"
   ]
  },
  {
   "cell_type": "code",
   "execution_count": null,
   "id": "bcc79bb8",
   "metadata": {},
   "outputs": [],
   "source": [
    "# declare monomer for Death:\n",
    "# Hint: In this model, death can occur either naturally or because of covid. This can be represented by \n",
    "# a binding site ['r'] with two states ['natDeath', 'covDeath'].\n"
   ]
  },
  {
   "cell_type": "markdown",
   "id": "2cbf85db",
   "metadata": {},
   "source": [
    "## Declare Parameters\n",
    "\n",
    "The parameters are the rate constants of the model."
   ]
  },
  {
   "cell_type": "code",
   "execution_count": null,
   "id": "9cff3865",
   "metadata": {},
   "outputs": [],
   "source": [
    "# declare the birth rate: \n"
   ]
  },
  {
   "cell_type": "code",
   "execution_count": null,
   "id": "fc885578",
   "metadata": {},
   "outputs": [],
   "source": [
    "# declare the natural death rate: \n"
   ]
  },
  {
   "cell_type": "code",
   "execution_count": null,
   "id": "bed4cfe5",
   "metadata": {},
   "outputs": [],
   "source": [
    "# declare the covid infection rate: \n"
   ]
  },
  {
   "cell_type": "code",
   "execution_count": null,
   "id": "39d2ae62",
   "metadata": {},
   "outputs": [],
   "source": [
    "# declare the covid recovery rate: \n"
   ]
  },
  {
   "cell_type": "code",
   "execution_count": null,
   "id": "8bf82b32",
   "metadata": {},
   "outputs": [],
   "source": [
    "# declare the covid death rate: \n"
   ]
  },
  {
   "cell_type": "markdown",
   "id": "3315c9e3",
   "metadata": {},
   "source": [
    "## Declare Initial Conditions\n",
    "\n",
    "The initial conditions indicate how much non-zero initial species are present at time t = 0 in the system."
   ]
  },
  {
   "cell_type": "code",
   "execution_count": null,
   "id": "81f30acb",
   "metadata": {},
   "outputs": [],
   "source": [
    "# declare initial value for healthy people that never got covid:\n"
   ]
  },
  {
   "cell_type": "code",
   "execution_count": null,
   "id": "cdd98571",
   "metadata": {},
   "outputs": [],
   "source": [
    "# declare initial value for healthy people that recovered from covid:\n"
   ]
  },
  {
   "cell_type": "code",
   "execution_count": null,
   "id": "4f252f40",
   "metadata": {},
   "outputs": [],
   "source": [
    "# declare initial value for the covid patients:\n"
   ]
  },
  {
   "cell_type": "code",
   "execution_count": null,
   "id": "5e5d30d4",
   "metadata": {},
   "outputs": [],
   "source": [
    "# declare initial value for the death people died naturally:\n"
   ]
  },
  {
   "cell_type": "code",
   "execution_count": null,
   "id": "74fb687b",
   "metadata": {},
   "outputs": [],
   "source": [
    "# declare initial value for the death people died from covid:\n"
   ]
  },
  {
   "cell_type": "markdown",
   "id": "e238849c",
   "metadata": {},
   "source": [
    "## Declare Rules of the Model\n",
    "\n",
    "Rules define how the individual components (Monomers) of the system interacts with each other.\n",
    "Hint: In this model, all the rules are forward interactions only!"
   ]
  },
  {
   "cell_type": "code",
   "execution_count": null,
   "id": "f9b290e5",
   "metadata": {},
   "outputs": [],
   "source": [
    "# declare the rule for birth:\n",
    "# Assume newly born individual is healthy and never got covid.\n",
    "# Hint: in the model birth has no interaction with other model Monomers. It is continuously inputted to the model \n",
    "# with a constant rate. Such inputs can be implemented in general as: Rule('name', None >> A(), rate). \n"
   ]
  },
  {
   "cell_type": "code",
   "execution_count": null,
   "id": "3897d0c0",
   "metadata": {},
   "outputs": [],
   "source": [
    "# declare the rule for natural death:\n",
    "# assume natural death occurs for only the healthy individuals (either never got covid or recovered from covid)\n"
   ]
  },
  {
   "cell_type": "code",
   "execution_count": null,
   "id": "b1fb71ce",
   "metadata": {},
   "outputs": [],
   "source": [
    "# declare the rule for covid infection:\n",
    "# assume a healthy people becomes covid patient if they only interact with another covid patient\n"
   ]
  },
  {
   "cell_type": "code",
   "execution_count": null,
   "id": "5b5d0eb3",
   "metadata": {},
   "outputs": [],
   "source": [
    "# declare the rule for recovering from covid:\n"
   ]
  },
  {
   "cell_type": "code",
   "execution_count": null,
   "id": "fa209417",
   "metadata": {},
   "outputs": [],
   "source": [
    "# declare the rule for death from covid:\n"
   ]
  },
  {
   "cell_type": "markdown",
   "id": "ae8bd0e3",
   "metadata": {},
   "source": [
    "## Declare the Observables\n",
    "\n",
    "Observables track the system components (Monomers) that we like to monitor and returns after model is simulated."
   ]
  },
  {
   "cell_type": "code",
   "execution_count": null,
   "id": "1dc1f58d",
   "metadata": {},
   "outputs": [],
   "source": [
    "# declare observable for the all healthy people (either never got covid or recovered from covid):\n"
   ]
  },
  {
   "cell_type": "code",
   "execution_count": null,
   "id": "5c16f5fa",
   "metadata": {},
   "outputs": [],
   "source": [
    "# declare observable for only the healthy people that never got covid:\n"
   ]
  },
  {
   "cell_type": "code",
   "execution_count": null,
   "id": "625a818e",
   "metadata": {},
   "outputs": [],
   "source": [
    "# declare observable for only the healthy people that recovered from covid:\n"
   ]
  },
  {
   "cell_type": "code",
   "execution_count": null,
   "id": "fb73578d",
   "metadata": {},
   "outputs": [],
   "source": [
    "# declare observable for covid patients:\n"
   ]
  },
  {
   "cell_type": "code",
   "execution_count": null,
   "id": "de3f0d80",
   "metadata": {},
   "outputs": [],
   "source": [
    "# declare observable for naturally died people:\n"
   ]
  },
  {
   "cell_type": "code",
   "execution_count": null,
   "id": "7c131949",
   "metadata": {},
   "outputs": [],
   "source": [
    "# declare observable for people died from covid:\n"
   ]
  },
  {
   "cell_type": "markdown",
   "id": "457ed256",
   "metadata": {},
   "source": [
    "## Simulate the Model"
   ]
  },
  {
   "cell_type": "code",
   "execution_count": null,
   "id": "d7b2d2c3",
   "metadata": {},
   "outputs": [],
   "source": [
    "# Import Scipy Ode Simulator from PySB library\n",
    "from pysb.simulator import ScipyOdeSimulator\n",
    "from pylab import *"
   ]
  },
  {
   "cell_type": "code",
   "execution_count": null,
   "id": "02bff38d",
   "metadata": {},
   "outputs": [],
   "source": [
    "# Create simulation time with 10000 time-point samples:\n"
   ]
  },
  {
   "cell_type": "code",
   "execution_count": null,
   "id": "0eebfd97",
   "metadata": {},
   "outputs": [],
   "source": [
    "# Input model and time to ScipyOdeSimulator and run the model:\n"
   ]
  },
  {
   "cell_type": "code",
   "execution_count": null,
   "id": "4f4f7ec9",
   "metadata": {},
   "outputs": [],
   "source": [
    "# Collect the simulation results:\n"
   ]
  },
  {
   "cell_type": "markdown",
   "id": "cb0d409c",
   "metadata": {},
   "source": [
    "## Plot the Simulation Results"
   ]
  },
  {
   "cell_type": "code",
   "execution_count": null,
   "id": "c310bf32",
   "metadata": {},
   "outputs": [],
   "source": [
    "# import matplotlib library\n",
    "%matplotlib inline\n",
    "import matplotlib.pyplot as plt\n",
    "\n",
    "plt.figure(figsize=(14, 8))\n",
    "\n",
    "# Plot total healthy people vs time:\n",
    "\n",
    "# Plot healthy people that never got covid vs time:\n",
    "\n",
    "# Plot healthy people that recovered from covid vs time:\n",
    "\n",
    "# Plot covid patients vs time:\n",
    "\n",
    "# Plot naturally died people vs time:\n",
    "\n",
    "# Plot people died from covid vs time:\n",
    "\n",
    "\n",
    "plt.legend(loc=0)\n",
    "plt.xlabel(\"Days from outbrake\")\n",
    "plt.ylabel(\"Population\")\n",
    "plt.show()"
   ]
  },
  {
   "cell_type": "markdown",
   "id": "ee1b7d36",
   "metadata": {},
   "source": [
    "## Comment on the Figure"
   ]
  },
  {
   "cell_type": "code",
   "execution_count": null,
   "id": "3d3c71b2",
   "metadata": {},
   "outputs": [],
   "source": [
    "# Put your interpretations of the results here ...\n",
    "#\n",
    "#\n",
    "#"
   ]
  }
 ],
 "metadata": {
  "kernelspec": {
   "display_name": "Python 3",
   "language": "python",
   "name": "python3"
  },
  "language_info": {
   "codemirror_mode": {
    "name": "ipython",
    "version": 3
   },
   "file_extension": ".py",
   "mimetype": "text/x-python",
   "name": "python",
   "nbconvert_exporter": "python",
   "pygments_lexer": "ipython3",
   "version": "3.8.8"
  }
 },
 "nbformat": 4,
 "nbformat_minor": 5
}
