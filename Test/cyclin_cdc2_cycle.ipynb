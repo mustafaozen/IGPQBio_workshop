{
 "cells": [
  {
   "cell_type": "markdown",
   "id": "56c985ca",
   "metadata": {},
   "source": [
    "# Modeling Cdc2 - Cyclin interactions\n",
    "\n",
    "This workshop aims to provide attendees hands-on experince with PySB. This example demonstrates how one can implement and simulate a biological system model using PySB. In this example, a simple model of cyclin - cdc2 cycle will be implemented and simulated."
   ]
  },
  {
   "cell_type": "markdown",
   "id": "cb2f17ba",
   "metadata": {},
   "source": [
    "## Background\n",
    "\n",
    "### Simplified Cdc2 - Cyclin interaction model:\n",
    "Cdc2 and Cyclin controls major events in cell cycle. Activation of Cdc2/Cyclin complexes is responsible for mitosis. For the biological details and the model, see [Tyson, 1991](https://doi.org/10.1073/pnas.88.16.7328). The following diagram demonstrates the model details:  \n",
    "\n",
    "<img src=\"cdc2_cyclin_model.png\" width=\"800\" height=\"1200\">\n",
    "\n",
    "\n",
    "#### Interaction steps:\n",
    "    (1): Cyclin is synthesized de novo: \n",
    "        (None --> cyclin)\n",
    "    (2): Newly synthesized cyclin may be unstable: \n",
    "        (cyclin --> None)\n",
    "    (3): Cyclin binds to cdc2-P to form \"pre-Maturation Promoting Factor (MPF). At some point after heterodimer formation, the cyclin subunit is phosphorylated: \n",
    "        (cyclin + cdc2-P --> cyclin-P:cdc2-P)\n",
    "    (4-5): The cdc2 subunit is then reversibly dephosphorylated to form active-MPF: \n",
    "        (cyclin-P:cdc2-P <--> cyclin-P:cdc2)\n",
    "    (Dashed-arrow): Two active-MPF enhance the catalytic activity of the phosphatase: \n",
    "        (cyclin-P:cdc2 + cyclin-P:cdc2 + cyclin-P:cdc2-P --> cyclin-P:cdc2 + cyclin-P:cdc2 + cyclin-P:cdc2)\n",
    "    (6): Nuclear division is triggered when a sufficient quantity of MPF has been activated and concurrently active MPF is destroyed: \n",
    "        (cyclin-P:cdc2 --> cyclin-P + cdc2)\n",
    "    (7): After breakdown of the MPF complex, released phosphorylated cyclin is subject to rapid proteolysis: \n",
    "        (cyclin-P --> None)\n",
    "    (8-9): The cdc2 subunit is reversibly phosphorylated, and the cycle repeats itself: \n",
    "        (cdc2 <--> cdc2-P)\n",
    "\n",
    "### Instructions\n",
    "Create the \"species\" of the model, represented as `Monomers` in PySB:\n",
    "    \n",
    "    cyclin: it can have two states (unphospho and phospho) and it can bind to cdc2\n",
    "    cdc2: it can have two states (unphospho and phospho) and it can bind to cyclin\n",
    "    \n",
    "Parameters: (note that the following parameter values are computed considering cell volume = 1e-20 and Avogadro constant = 6.02214076e+23)\n",
    "\n",
    "    'k1': cyclin synthesis rate, 90.33 (Step1)\n",
    "    'k2': unstable cyclin degredation rate, 1e-10 (Step 2)\n",
    "    'k3': cyclin:cdc2-p binding rate (pre-MPF formation), 3.32e-2 (Step 3)\n",
    "    'k4': MPF activation rate, 1.8e-2 (Step 4)\n",
    "    'k5': MPF inactivation rate, 1e-10 (Step 5)\n",
    "    'k_dash': Autocatalysis rate, 9.9266e-6\n",
    "    'k6': cyclin-P:cdc2 dissociation rate, 1 (Step 6)\n",
    "    'k7': cyclin-P degredation rate, 1e1 (Step 7)\n",
    "    'k8': cdc2 phosphorylation rate, 1e6\n",
    "    'k9': cdc2 dephosphorylation rate, 1e3\n",
    "    \n",
    "Initial values:\n",
    "    \n",
    "    cyclin: Assume initially there exists 1500 copies of unphosphorylated free cyclin\n",
    "    cdc2: Assume initially there exists 6000 copies of phosphorylated free cdc2\n",
    "    \n",
    "Outputs: \n",
    "\n",
    "    Track total cyclin and active cyclin (i.e., the active MPF)\n",
    "\n",
    "Please read and underrstand the model and type PySB commands to represent this system. Then, simulate the system for `0 to 100 mins` considering `10000` time-point samples. You can use the [PySB Tutorial](https://pysb.readthedocs.io/en/stable/tutorial.html#) for explanations and examples of the individual model components."
   ]
  },
  {
   "cell_type": "code",
   "execution_count": 1,
   "id": "18ccdc17",
   "metadata": {},
   "outputs": [],
   "source": [
    "# import the pysb module:\n",
    "from pysb import *"
   ]
  },
  {
   "cell_type": "code",
   "execution_count": 2,
   "id": "46a462ff",
   "metadata": {},
   "outputs": [
    {
     "data": {
      "text/plain": [
       "<Model '_interactive_' (monomers: 0, rules: 0, parameters: 0, expressions: 0, compartments: 0, energypatterns: 0) at 0x7f81201d5730>"
      ]
     },
     "execution_count": 2,
     "metadata": {},
     "output_type": "execute_result"
    }
   ],
   "source": [
    "# instantiate a model:\n",
    "Model()"
   ]
  },
  {
   "cell_type": "markdown",
   "id": "c4826aa9",
   "metadata": {},
   "source": [
    "## Declare Monomers\n",
    "\n",
    "Monomers are the components whose behavior is intended to be modeled in the system."
   ]
  },
  {
   "cell_type": "code",
   "execution_count": 3,
   "id": "3f14b732",
   "metadata": {},
   "outputs": [
    {
     "data": {
      "text/plain": [
       "Monomer('cyclin', ['b', 's'], {'s': ['u', 'p']})"
      ]
     },
     "execution_count": 3,
     "metadata": {},
     "output_type": "execute_result"
    }
   ],
   "source": [
    "# declare monomer for cyclin:\n",
    "# Hint: cyclin has one binding site and can be in two states.\n",
    "Monomer('cyclin', ['b', 's'], {'s': ['u', 'p']})"
   ]
  },
  {
   "cell_type": "code",
   "execution_count": 4,
   "id": "7f26ea39",
   "metadata": {},
   "outputs": [
    {
     "data": {
      "text/plain": [
       "Monomer('cdc2', ['b', 's'], {'s': ['u', 'p']})"
      ]
     },
     "execution_count": 4,
     "metadata": {},
     "output_type": "execute_result"
    }
   ],
   "source": [
    "# declare monomer for cdc2: \n",
    "# Hint: cdc2 has one binding site and can be in two states.\n",
    "Monomer('cdc2', ['b', 's'], {'s': ['u', 'p']})"
   ]
  },
  {
   "cell_type": "markdown",
   "id": "2cbf85db",
   "metadata": {},
   "source": [
    "## Declare Parameters\n",
    "\n",
    "The parameters are the rate constants of the model."
   ]
  },
  {
   "cell_type": "code",
   "execution_count": 5,
   "id": "9cff3865",
   "metadata": {},
   "outputs": [
    {
     "data": {
      "text/latex": [
       "$\\displaystyle k_{1}$"
      ],
      "text/plain": [
       "Parameter('k1', 90.33)"
      ]
     },
     "execution_count": 5,
     "metadata": {},
     "output_type": "execute_result"
    }
   ],
   "source": [
    "# define k1 (cyclin synthesis rate): \n",
    "Parameter('k1', 90.33)"
   ]
  },
  {
   "cell_type": "code",
   "execution_count": 6,
   "id": "fc885578",
   "metadata": {},
   "outputs": [
    {
     "data": {
      "text/latex": [
       "$\\displaystyle k_{2}$"
      ],
      "text/plain": [
       "Parameter('k2', 1e-10)"
      ]
     },
     "execution_count": 6,
     "metadata": {},
     "output_type": "execute_result"
    }
   ],
   "source": [
    "# define k2 (unstable cyclin degredation rate): \n",
    "Parameter('k2', 1e-10)"
   ]
  },
  {
   "cell_type": "code",
   "execution_count": 7,
   "id": "bed4cfe5",
   "metadata": {},
   "outputs": [
    {
     "data": {
      "text/latex": [
       "$\\displaystyle k_{3}$"
      ],
      "text/plain": [
       "Parameter('k3', 0.0332)"
      ]
     },
     "execution_count": 7,
     "metadata": {},
     "output_type": "execute_result"
    }
   ],
   "source": [
    "# define k3 (cyclin:cdc2-p binding rate): \n",
    "Parameter('k3', 3.32e-2)"
   ]
  },
  {
   "cell_type": "code",
   "execution_count": 8,
   "id": "39d2ae62",
   "metadata": {},
   "outputs": [
    {
     "data": {
      "text/latex": [
       "$\\displaystyle k_{4}$"
      ],
      "text/plain": [
       "Parameter('k4', 0.018)"
      ]
     },
     "execution_count": 8,
     "metadata": {},
     "output_type": "execute_result"
    }
   ],
   "source": [
    "# define k4 (MPF activation rate): \n",
    "Parameter('k4', 1.8e-2)"
   ]
  },
  {
   "cell_type": "code",
   "execution_count": 9,
   "id": "8bf82b32",
   "metadata": {},
   "outputs": [
    {
     "data": {
      "text/latex": [
       "$\\displaystyle k_{5}$"
      ],
      "text/plain": [
       "Parameter('k5', 1e-10)"
      ]
     },
     "execution_count": 9,
     "metadata": {},
     "output_type": "execute_result"
    }
   ],
   "source": [
    "# define k5 (MPF inactivation rate): \n",
    "Parameter('k5', 1e-10)"
   ]
  },
  {
   "cell_type": "code",
   "execution_count": 10,
   "id": "8954edad",
   "metadata": {},
   "outputs": [
    {
     "data": {
      "text/latex": [
       "$\\displaystyle k_{dash}$"
      ],
      "text/plain": [
       "Parameter('k_dash', 9.9266e-06)"
      ]
     },
     "execution_count": 10,
     "metadata": {},
     "output_type": "execute_result"
    }
   ],
   "source": [
    "# define k_dash (Autocatalysis rate): \n",
    "Parameter('k_dash', 9.9266e-6)"
   ]
  },
  {
   "cell_type": "code",
   "execution_count": 11,
   "id": "c2767ef5",
   "metadata": {},
   "outputs": [
    {
     "data": {
      "text/latex": [
       "$\\displaystyle k_{6}$"
      ],
      "text/plain": [
       "Parameter('k6', 1.0)"
      ]
     },
     "execution_count": 11,
     "metadata": {},
     "output_type": "execute_result"
    }
   ],
   "source": [
    "# define k6 (cyclin-P:cdc2 dissociation rate): \n",
    "Parameter('k6', 1)"
   ]
  },
  {
   "cell_type": "code",
   "execution_count": 12,
   "id": "5b4e00fd",
   "metadata": {},
   "outputs": [
    {
     "data": {
      "text/latex": [
       "$\\displaystyle k_{7}$"
      ],
      "text/plain": [
       "Parameter('k7', 10.0)"
      ]
     },
     "execution_count": 12,
     "metadata": {},
     "output_type": "execute_result"
    }
   ],
   "source": [
    "# define k7 (cyclin-P degredation rate): \n",
    "Parameter('k7', 1e1)"
   ]
  },
  {
   "cell_type": "code",
   "execution_count": 13,
   "id": "9a16e92c",
   "metadata": {},
   "outputs": [
    {
     "data": {
      "text/latex": [
       "$\\displaystyle k_{8}$"
      ],
      "text/plain": [
       "Parameter('k8', 1000000.0)"
      ]
     },
     "execution_count": 13,
     "metadata": {},
     "output_type": "execute_result"
    }
   ],
   "source": [
    "# define k8 (cdc2 phosphorylation rate): \n",
    "Parameter('k8', 1e6)"
   ]
  },
  {
   "cell_type": "code",
   "execution_count": 14,
   "id": "cc4b4f70",
   "metadata": {},
   "outputs": [
    {
     "data": {
      "text/latex": [
       "$\\displaystyle k_{9}$"
      ],
      "text/plain": [
       "Parameter('k9', 1000.0)"
      ]
     },
     "execution_count": 14,
     "metadata": {},
     "output_type": "execute_result"
    }
   ],
   "source": [
    "# define k9 (cdc2 dephosphorylation rate): \n",
    "Parameter('k9', 1e3)"
   ]
  },
  {
   "cell_type": "markdown",
   "id": "3315c9e3",
   "metadata": {},
   "source": [
    "## Declare Initial Conditions\n",
    "\n",
    "The initial conditions indicate how much non-zero initial species are present at time t = 0 in the system."
   ]
  },
  {
   "cell_type": "code",
   "execution_count": 15,
   "id": "81f30acb",
   "metadata": {},
   "outputs": [
    {
     "data": {
      "text/plain": [
       "Initial(cyclin(b=None, s='u'), init_u_cyclin)"
      ]
     },
     "execution_count": 15,
     "metadata": {},
     "output_type": "execute_result"
    }
   ],
   "source": [
    "# declare initial value for cyclin:\n",
    "Initial(cyclin(b=None, s='u'), Parameter('init_u_cyclin', 1505))"
   ]
  },
  {
   "cell_type": "code",
   "execution_count": 16,
   "id": "cdd98571",
   "metadata": {},
   "outputs": [
    {
     "data": {
      "text/plain": [
       "Initial(cdc2(b=None, s='p'), init_p_cdc2)"
      ]
     },
     "execution_count": 16,
     "metadata": {},
     "output_type": "execute_result"
    }
   ],
   "source": [
    "# declare initial value for cdc2:\n",
    "Initial(cdc2(b=None, s='p'), Parameter('init_p_cdc2', 6022))"
   ]
  },
  {
   "cell_type": "markdown",
   "id": "e238849c",
   "metadata": {},
   "source": [
    "## Declare Rules of the Model\n",
    "\n",
    "Rules define how the individual components (Monomers) of the system interacts with each other.\n",
    "Hint: In this model, all the rules are forward interactions only!"
   ]
  },
  {
   "cell_type": "code",
   "execution_count": 17,
   "id": "f9b290e5",
   "metadata": {},
   "outputs": [
    {
     "data": {
      "text/plain": [
       "Rule('cyclin_synth', None >> cyclin(b=None, s='u'), k1)"
      ]
     },
     "execution_count": 17,
     "metadata": {},
     "output_type": "execute_result"
    }
   ],
   "source": [
    "# write the rule for de novo cyclin synthesis (None --> cyclin) with rate k1:\n",
    "# Note: synthesized cylin should be in unbound, unphosphorylated form.\n",
    "Rule('cyclin_synth', None >> cyclin(b=None, s='u'), k1)"
   ]
  },
  {
   "cell_type": "code",
   "execution_count": 18,
   "id": "3897d0c0",
   "metadata": {},
   "outputs": [
    {
     "data": {
      "text/plain": [
       "Rule('cyclin_deg', cyclin(b=None, s='u') >> None, k2)"
      ]
     },
     "execution_count": 18,
     "metadata": {},
     "output_type": "execute_result"
    }
   ],
   "source": [
    "# write the rule for degradation of unstable newly synthesized cyclin (cyclin --> None) with rate k2:\n",
    "Rule('cyclin_deg', cyclin(b=None, s='u') >> None, k2)"
   ]
  },
  {
   "cell_type": "code",
   "execution_count": 19,
   "id": "b1fb71ce",
   "metadata": {},
   "outputs": [
    {
     "data": {
      "text/plain": [
       "Rule('pre_MPF', cyclin(b=None, s='u') + cdc2(b=None, s='p') >> cyclin(b=1, s='p') % cdc2(b=1, s='p'), k3)"
      ]
     },
     "execution_count": 19,
     "metadata": {},
     "output_type": "execute_result"
    }
   ],
   "source": [
    "# write the rule for pre-Maturation Promoting Factor (MPF) formation \n",
    "# (cyclin + cdc2-P --> cyclin-P:cdc2-P) with rate k3:\n",
    "Rule('pre_MPF', cyclin(b=None, s='u') + cdc2(b=None, s='p') >> cyclin(b=1, s='p') % cdc2(b=1, s='p'), k3)"
   ]
  },
  {
   "cell_type": "code",
   "execution_count": 20,
   "id": "5b5d0eb3",
   "metadata": {},
   "outputs": [
    {
     "data": {
      "text/plain": [
       "Rule('MPF_activation', cyclin(b=1, s='p') % cdc2(b=1, s='p') | cyclin(b=1, s='p') % cdc2(b=1, s='u'), k4, k5)"
      ]
     },
     "execution_count": 20,
     "metadata": {},
     "output_type": "execute_result"
    }
   ],
   "source": [
    "# write the rule for reversible MPF activation (cyclin-P:cdc2-P <--> cyclin-P:cdc2) \n",
    "# with forward rate k4 and reverse rate k5:\n",
    "Rule('MPF_activation', cyclin(b=1, s='p') % cdc2(b=1, s='p') | cyclin(b=1, s='p') % cdc2(b=1, s='u'), k4, k5)"
   ]
  },
  {
   "cell_type": "code",
   "execution_count": 21,
   "id": "fa209417",
   "metadata": {},
   "outputs": [
    {
     "data": {
      "text/plain": [
       "Rule('MPF_self_activation', cyclin(b=1, s='p') % cdc2(b=1, s='u') + cyclin(b=1, s='p') % cdc2(b=1, s='u') + cyclin(b=1, s='p') % cdc2(b=1, s='p') >> cyclin(b=1, s='p') % cdc2(b=1, s='u') + cyclin(b=1, s='p') % cdc2(b=1, s='u') + cyclin(b=1, s='p') % cdc2(b=1, s='u'), k_dash)"
      ]
     },
     "execution_count": 21,
     "metadata": {},
     "output_type": "execute_result"
    }
   ],
   "source": [
    "# write the rule for active MPF self-enhancement \n",
    "# (cyclin-P:cdc2 + cyclin-P:cdc2 + cyclin-P:cdc2-P --> cyclin-P:cdc2 + cyclin-P:cdc2 + cyclin-P:cdc2)\n",
    "# with rate k_dash:\n",
    "Rule('MPF_self_activation', \n",
    "     cyclin(b=1, s='p') % cdc2(b=1, s='u') + cyclin(b=1, s='p') % cdc2(b=1, s='u') + cyclin(b=1, s='p') % cdc2(b=1, s='p') >>\n",
    "     cyclin(b=1, s='p') % cdc2(b=1, s='u') + cyclin(b=1, s='p') % cdc2(b=1, s='u') + cyclin(b=1, s='p') % cdc2(b=1, s='u'),\n",
    "     k_dash\n",
    "    )"
   ]
  },
  {
   "cell_type": "code",
   "execution_count": 22,
   "id": "182344b4",
   "metadata": {},
   "outputs": [
    {
     "data": {
      "text/plain": [
       "Rule('MPF_destruct', cyclin(b=1, s='p') % cdc2(b=1, s='u') >> cyclin(b=None, s='p') + cdc2(b=None, s='u'), k6)"
      ]
     },
     "execution_count": 22,
     "metadata": {},
     "output_type": "execute_result"
    }
   ],
   "source": [
    "# write the rule for active MPF destruct (cyclin-P:cdc2 --> cyclin-P + cdc2) with rate k6:\n",
    "Rule('MPF_destruct', cyclin(b=1, s='p') % cdc2(b=1, s='u') >> cyclin(b=None, s='p') + cdc2(b=None, s='u'), k6)"
   ]
  },
  {
   "cell_type": "code",
   "execution_count": 24,
   "id": "449aae59",
   "metadata": {},
   "outputs": [
    {
     "data": {
      "text/plain": [
       "Rule('cyclin_proteolysis', cyclin(b=None, s='p') >> None, k7)"
      ]
     },
     "execution_count": 24,
     "metadata": {},
     "output_type": "execute_result"
    }
   ],
   "source": [
    "# write the rule for cyclin-p degradation (cyclin-P --> None) with rate k7:\n",
    "Rule('cyclin_proteolysis', cyclin(b=None, s='p') >> None, k7)"
   ]
  },
  {
   "cell_type": "code",
   "execution_count": 25,
   "id": "c4f57d2c",
   "metadata": {},
   "outputs": [
    {
     "data": {
      "text/plain": [
       "Rule('cdc2_phos_dephos', cdc2(b=None, s='u') | cdc2(b=None, s='p'), k8, k9)"
      ]
     },
     "execution_count": 25,
     "metadata": {},
     "output_type": "execute_result"
    }
   ],
   "source": [
    "# write the rule for reversable cdc2 phosphorylation (cdc2 <--> cdc2-P) \n",
    "# with forward k8 and reverse rate k9:\n",
    "Rule('cdc2_phos_dephos', cdc2(b=None, s='u') | cdc2(b=None, s='p'), k8, k9)"
   ]
  },
  {
   "cell_type": "markdown",
   "id": "ae8bd0e3",
   "metadata": {},
   "source": [
    "## Declare the Observables\n",
    "\n",
    "Observables track the system components (Monomers) that we like to monitor and returns after model is simulated."
   ]
  },
  {
   "cell_type": "code",
   "execution_count": 26,
   "id": "1dc1f58d",
   "metadata": {},
   "outputs": [
    {
     "data": {
      "text/latex": [
       "$\\displaystyle cyclin_{total}$"
      ],
      "text/plain": [
       "Observable('cyclin_total', cyclin())"
      ]
     },
     "execution_count": 26,
     "metadata": {},
     "output_type": "execute_result"
    }
   ],
   "source": [
    "# define observable for total cyclin:\n",
    "# Hint: no matter how many sites/states a monomer has, calling a monomer with an empty paramtheses \n",
    "# will consider all forms of the monomer (e.g. A())\n",
    "Observable('cyclin_total', cyclin())"
   ]
  },
  {
   "cell_type": "code",
   "execution_count": 27,
   "id": "5c16f5fa",
   "metadata": {},
   "outputs": [
    {
     "data": {
      "text/latex": [
       "$\\displaystyle cyclin_{active}$"
      ],
      "text/plain": [
       "Observable('cyclin_active', cyclin(b=1, s='p') % cdc2(b=1, s='u'))"
      ]
     },
     "execution_count": 27,
     "metadata": {},
     "output_type": "execute_result"
    }
   ],
   "source": [
    "# define observable for active cyclin (i.e., the active MPF):\n",
    "# Hint: the observable does not have to be an individual monomer, it can be any complex.\n",
    "Observable('cyclin_active', cyclin(b=1, s='p') % cdc2(b=1, s='u'))"
   ]
  },
  {
   "cell_type": "markdown",
   "id": "457ed256",
   "metadata": {},
   "source": [
    "## Simulate the Model"
   ]
  },
  {
   "cell_type": "code",
   "execution_count": 28,
   "id": "d7b2d2c3",
   "metadata": {},
   "outputs": [],
   "source": [
    "# Import Scipy Ode Simulator from PySB library\n",
    "from pysb.simulator import ScipyOdeSimulator\n",
    "from pylab import *"
   ]
  },
  {
   "cell_type": "code",
   "execution_count": 29,
   "id": "02bff38d",
   "metadata": {},
   "outputs": [],
   "source": [
    "# Create simulation time 0-100 mins with 10000 time-point samples (use linspace(a, b, N)):\n",
    "t = linspace(0, 100, 10001)"
   ]
  },
  {
   "cell_type": "code",
   "execution_count": 30,
   "id": "0eebfd97",
   "metadata": {},
   "outputs": [],
   "source": [
    "# Input model and time to ScipyOdeSimulator and run the model:\n",
    "sim = ScipyOdeSimulator(model).run(tspan=t)\n",
    "simResults = sim.all"
   ]
  },
  {
   "cell_type": "markdown",
   "id": "cb0d409c",
   "metadata": {},
   "source": [
    "## Plot the Simulation Results"
   ]
  },
  {
   "cell_type": "code",
   "execution_count": 31,
   "id": "c310bf32",
   "metadata": {},
   "outputs": [
    {
     "data": {
      "image/png": "[encoded data removed]",
      "text/plain": [
       "<Figure size 720x432 with 1 Axes>"
      ]
     },
     "metadata": {
      "needs_background": "light"
     },
     "output_type": "display_data"
    }
   ],
   "source": [
    "# import matplotlib library\n",
    "%matplotlib inline\n",
    "import matplotlib.pyplot as plt\n",
    "\n",
    "plt.figure(figsize=(10, 6))\n",
    "\n",
    "plt.plot(t, simResults['cyclin_total'], lw=2, label='total_cyclin')\n",
    "plt.plot(t, simResults['cyclin_active'], lw=2, label='active_cyclin')\n",
    "\n",
    "plt.legend(loc='best')\n",
    "plt.xlabel('time [min]')\n",
    "plt.ylabel('copy number')\n",
    "\n",
    "plt.show()"
   ]
  }
 ],
 "metadata": {
  "kernelspec": {
   "display_name": "Python 3 (ipykernel)",
   "language": "python",
   "name": "python3"
  },
  "language_info": {
   "codemirror_mode": {
    "name": "ipython",
    "version": 3
   },
   "file_extension": ".py",
   "mimetype": "text/x-python",
   "name": "python",
   "nbconvert_exporter": "python",
   "pygments_lexer": "ipython3",
   "version": "3.9.12"
  }
 },
 "nbformat": 4,
 "nbformat_minor": 5
}
